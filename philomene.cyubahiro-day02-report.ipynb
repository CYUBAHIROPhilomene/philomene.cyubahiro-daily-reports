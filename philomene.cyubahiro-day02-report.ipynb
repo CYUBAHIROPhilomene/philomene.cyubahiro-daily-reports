{
 "cells": [
  {
   "cell_type": "markdown",
   "id": "eabd048b-ab26-4450-bb10-8fd00c649a3d",
   "metadata": {},
   "source": [
    "### <center>  Python Proficiency for Scientific Computing and Data Science (PyPro-SCiDaS)  </center>"
   ]
  },
  {
   "cell_type": "markdown",
   "id": "d7051632-eb47-4939-84ee-8a8d39d38db7",
   "metadata": {},
   "source": [
    "### Coercion in python"
   ]
  },
  {
   "cell_type": "code",
   "execution_count": 62,
   "id": "52e19f39-c638-4d3d-b024-d1f210c11e11",
   "metadata": {},
   "outputs": [
    {
     "name": "stdout",
     "output_type": "stream",
     "text": [
      "9\n"
     ]
    }
   ],
   "source": [
    "# float to int\n",
    "num_float = 9.99\n",
    "num_int = int(num_float)\n",
    "print(num_int)  # This gives the integer part of the float"
   ]
  },
  {
   "cell_type": "code",
   "execution_count": 59,
   "id": "8b32f4d9-84df-4351-a60d-0412f861ca1b",
   "metadata": {},
   "outputs": [
    {
     "name": "stdout",
     "output_type": "stream",
     "text": [
      "Age: 25\n"
     ]
    }
   ],
   "source": [
    "# int to string\n",
    "age = 25\n",
    "age_str = str(age)\n",
    "print(\"Age: \" + age_str)  # We can concatenate them since they are both strings"
   ]
  },
  {
   "cell_type": "code",
   "execution_count": 60,
   "id": "6184d549-93ec-4b2c-b0a4-af1d27c3309d",
   "metadata": {},
   "outputs": [
    {
     "name": "stdout",
     "output_type": "stream",
     "text": [
      "31.0\n"
     ]
    }
   ],
   "source": [
    "#str to float\n",
    "price_text = \"15.50\"\n",
    "price_float = float(price_text)\n",
    "print(price_float * 2)  #The output is a float"
   ]
  },
  {
   "cell_type": "code",
   "execution_count": 61,
   "id": "6037cd03-ceef-485f-b1f5-44c35622b399",
   "metadata": {},
   "outputs": [
    {
     "name": "stdout",
     "output_type": "stream",
     "text": [
      "1\n"
     ]
    }
   ],
   "source": [
    "# bool to int\n",
    "is_valid = True\n",
    "bool_to_int = int(is_valid)\n",
    "print(bool_to_int)   # The value of bool True is 1"
   ]
  },
  {
   "cell_type": "markdown",
   "id": "6be00de3-6551-49ed-ae66-c6271c508752",
   "metadata": {},
   "source": [
    "### Method associated with variables"
   ]
  },
  {
   "cell_type": "markdown",
   "id": "2a720317-3dbe-4b55-855c-c09f6849db49",
   "metadata": {},
   "source": [
    "#### Let us explore for the string variable"
   ]
  },
  {
   "cell_type": "code",
   "execution_count": 64,
   "id": "8e172cf0-5d60-45b5-af1e-2b5b74cb7cbf",
   "metadata": {},
   "outputs": [],
   "source": [
    " par = \"    I am Learning python\""
   ]
  },
  {
   "cell_type": "code",
   "execution_count": 26,
   "id": "7d0ea385-867b-46d9-a6a4-15baf34305c8",
   "metadata": {},
   "outputs": [
    {
     "name": "stdout",
     "output_type": "stream",
     "text": [
      "['__add__', '__class__', '__contains__', '__delattr__', '__dir__', '__doc__', '__eq__', '__format__', '__ge__', '__getattribute__', '__getitem__', '__getnewargs__', '__getstate__', '__gt__', '__hash__', '__init__', '__init_subclass__', '__iter__', '__le__', '__len__', '__lt__', '__mod__', '__mul__', '__ne__', '__new__', '__reduce__', '__reduce_ex__', '__repr__', '__rmod__', '__rmul__', '__setattr__', '__sizeof__', '__str__', '__subclasshook__', 'capitalize', 'casefold', 'center', 'count', 'encode', 'endswith', 'expandtabs', 'find', 'format', 'format_map', 'index', 'isalnum', 'isalpha', 'isascii', 'isdecimal', 'isdigit', 'isidentifier', 'islower', 'isnumeric', 'isprintable', 'isspace', 'istitle', 'isupper', 'join', 'ljust', 'lower', 'lstrip', 'maketrans', 'partition', 'removeprefix', 'removesuffix', 'replace', 'rfind', 'rindex', 'rjust', 'rpartition', 'rsplit', 'rstrip', 'split', 'splitlines', 'startswith', 'strip', 'swapcase', 'title', 'translate', 'upper', 'zfill']\n"
     ]
    }
   ],
   "source": [
    "print(dir(par))"
   ]
  },
  {
   "cell_type": "code",
   "execution_count": 27,
   "id": "1e694e9d-81ac-455b-bb5e-9c6bdc6fbc16",
   "metadata": {},
   "outputs": [
    {
     "name": "stdout",
     "output_type": "stream",
     "text": [
      "Help on built-in function isupper:\n",
      "\n",
      "isupper() method of builtins.str instance\n",
      "    Return True if the string is an uppercase string, False otherwise.\n",
      "    \n",
      "    A string is uppercase if all cased characters in the string are uppercase and\n",
      "    there is at least one cased character in the string.\n",
      "\n"
     ]
    }
   ],
   "source": [
    "help(par.isupper)"
   ]
  },
  {
   "cell_type": "code",
   "execution_count": 28,
   "id": "91a8c67b-0135-4225-aaac-91892e8c34cb",
   "metadata": {},
   "outputs": [
    {
     "data": {
      "text/plain": [
       "False"
      ]
     },
     "execution_count": 28,
     "metadata": {},
     "output_type": "execute_result"
    }
   ],
   "source": [
    "par.isupper() # Returns false since our par variable is not in uppercase"
   ]
  },
  {
   "cell_type": "code",
   "execution_count": 29,
   "id": "3a1cfbed-c3f8-48e7-ba6b-94dba618b6d3",
   "metadata": {},
   "outputs": [
    {
     "name": "stdout",
     "output_type": "stream",
     "text": [
      "Help on built-in function endswith:\n",
      "\n",
      "endswith(...) method of builtins.str instance\n",
      "    S.endswith(suffix[, start[, end]]) -> bool\n",
      "    \n",
      "    Return True if S ends with the specified suffix, False otherwise.\n",
      "    With optional start, test S beginning at that position.\n",
      "    With optional end, stop comparing S at that position.\n",
      "    suffix can also be a tuple of strings to try.\n",
      "\n"
     ]
    }
   ],
   "source": [
    "help(par.endswith)"
   ]
  },
  {
   "cell_type": "code",
   "execution_count": 65,
   "id": "bb86c2ba-817d-4204-aed0-0875614508db",
   "metadata": {},
   "outputs": [
    {
     "data": {
      "text/plain": [
       "True"
      ]
     },
     "execution_count": 65,
     "metadata": {},
     "output_type": "execute_result"
    }
   ],
   "source": [
    "par.endswith('n') #returns True since variable par endswith 'n'"
   ]
  },
  {
   "cell_type": "code",
   "execution_count": 31,
   "id": "902bd27d-d534-4cdf-87dc-21930b560b34",
   "metadata": {},
   "outputs": [
    {
     "name": "stdout",
     "output_type": "stream",
     "text": [
      "Help on built-in function rstrip:\n",
      "\n",
      "rstrip(chars=None, /) method of builtins.str instance\n",
      "    Return a copy of the string with trailing whitespace removed.\n",
      "    \n",
      "    If chars is given and not None, remove characters in chars instead.\n",
      "\n"
     ]
    }
   ],
   "source": [
    "help(par.rstrip)"
   ]
  },
  {
   "cell_type": "code",
   "execution_count": 66,
   "id": "ecccfdbf-f846-48cb-a85d-c0599bc3af02",
   "metadata": {},
   "outputs": [
    {
     "data": {
      "text/plain": [
       "'    I am Learning python'"
      ]
     },
     "execution_count": 66,
     "metadata": {},
     "output_type": "execute_result"
    }
   ],
   "source": [
    "par.rstrip() #rstrip removes the unnecessary spaces on the right of a string. since we have no unneccessary space on the right side there is no change"
   ]
  },
  {
   "cell_type": "code",
   "execution_count": 33,
   "id": "211efed5-d0b9-402e-8ce0-9fae31b7aa35",
   "metadata": {},
   "outputs": [
    {
     "name": "stdout",
     "output_type": "stream",
     "text": [
      "Help on built-in function find:\n",
      "\n",
      "find(...) method of builtins.str instance\n",
      "    S.find(sub[, start[, end]]) -> int\n",
      "    \n",
      "    Return the lowest index in S where substring sub is found,\n",
      "    such that sub is contained within S[start:end].  Optional\n",
      "    arguments start and end are interpreted as in slice notation.\n",
      "    \n",
      "    Return -1 on failure.\n",
      "\n"
     ]
    }
   ],
   "source": [
    "help(par.find)"
   ]
  },
  {
   "cell_type": "code",
   "execution_count": 34,
   "id": "021353d7-39b3-4488-a0ac-baf297d05c09",
   "metadata": {},
   "outputs": [
    {
     "data": {
      "text/plain": [
       "14"
      ]
     },
     "execution_count": 34,
     "metadata": {},
     "output_type": "execute_result"
    }
   ],
   "source": [
    "par.find('python') # Returns the lowest index we have a word python"
   ]
  },
  {
   "cell_type": "code",
   "execution_count": 35,
   "id": "c09a0345-a7f2-4790-a77e-0b57717e5de0",
   "metadata": {},
   "outputs": [
    {
     "name": "stdout",
     "output_type": "stream",
     "text": [
      "Help on built-in function lstrip:\n",
      "\n",
      "lstrip(chars=None, /) method of builtins.str instance\n",
      "    Return a copy of the string with leading whitespace removed.\n",
      "    \n",
      "    If chars is given and not None, remove characters in chars instead.\n",
      "\n"
     ]
    }
   ],
   "source": [
    "help(par.lstrip)"
   ]
  },
  {
   "cell_type": "code",
   "execution_count": 67,
   "id": "71ea5bea-9a3c-49f2-9d27-1426fe25dac7",
   "metadata": {},
   "outputs": [
    {
     "data": {
      "text/plain": [
       "'I am Learning python'"
      ]
     },
     "execution_count": 67,
     "metadata": {},
     "output_type": "execute_result"
    }
   ],
   "source": [
    "par.lstrip() #This removes space from the left side "
   ]
  },
  {
   "cell_type": "code",
   "execution_count": 44,
   "id": "96695351-1582-4853-8902-54a098b7b505",
   "metadata": {},
   "outputs": [
    {
     "name": "stdout",
     "output_type": "stream",
     "text": [
      "Help on built-in function split:\n",
      "\n",
      "split(sep=None, maxsplit=-1) method of builtins.str instance\n",
      "    Return a list of the substrings in the string, using sep as the separator string.\n",
      "    \n",
      "      sep\n",
      "        The separator used to split the string.\n",
      "    \n",
      "        When set to None (the default value), will split on any whitespace\n",
      "        character (including \\n \\r \\t \\f and spaces) and will discard\n",
      "        empty strings from the result.\n",
      "      maxsplit\n",
      "        Maximum number of splits (starting from the left).\n",
      "        -1 (the default value) means no limit.\n",
      "    \n",
      "    Note, str.split() is mainly useful for data that has been intentionally\n",
      "    delimited.  With natural text that includes punctuation, consider using\n",
      "    the regular expression module.\n",
      "\n"
     ]
    }
   ],
   "source": [
    "help(par.split)"
   ]
  },
  {
   "cell_type": "code",
   "execution_count": 50,
   "id": "2e072aa3-a2c2-47ac-87b2-39eaafe5e923",
   "metadata": {},
   "outputs": [
    {
     "data": {
      "text/plain": [
       "['I', 'am', 'Learning', 'python']"
      ]
     },
     "execution_count": 50,
     "metadata": {},
     "output_type": "execute_result"
    }
   ],
   "source": [
    "par.split() #split where is whitespace character\n"
   ]
  },
  {
   "cell_type": "code",
   "execution_count": null,
   "id": "6a03da2c-ea92-48ed-b709-4bfe6d1582bd",
   "metadata": {},
   "outputs": [],
   "source": []
  }
 ],
 "metadata": {
  "kernelspec": {
   "display_name": "Python 3 (ipykernel)",
   "language": "python",
   "name": "python3"
  },
  "language_info": {
   "codemirror_mode": {
    "name": "ipython",
    "version": 3
   },
   "file_extension": ".py",
   "mimetype": "text/x-python",
   "name": "python",
   "nbconvert_exporter": "python",
   "pygments_lexer": "ipython3",
   "version": "3.11.7"
  }
 },
 "nbformat": 4,
 "nbformat_minor": 5
}
