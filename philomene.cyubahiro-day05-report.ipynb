{
 "cells": [
  {
   "cell_type": "markdown",
   "id": "4226ae87-30de-45a5-95f5-87880ef9e29c",
   "metadata": {},
   "source": [
    "#### Iterable objects"
   ]
  },
  {
   "cell_type": "code",
   "execution_count": 8,
   "id": "2a42f575-8a97-4332-acd9-c5d26332edbd",
   "metadata": {},
   "outputs": [
    {
     "name": "stdout",
     "output_type": "stream",
     "text": [
      "[23, 29, 1.0, 2.1]\n",
      "['apple', 'mango', 'pineaple']\n"
     ]
    }
   ],
   "source": [
    "my_list = list([23, 29, 1.0, 2.1])\n",
    "fruits = ['apple', 'mango', 'pineaple']\n",
    "print(my_list)\n",
    "print(fruits)"
   ]
  },
  {
   "cell_type": "code",
   "execution_count": 2,
   "id": "309200ce-799b-4fb8-b1ac-8668e945948e",
   "metadata": {},
   "outputs": [],
   "source": [
    "marks = list()"
   ]
  },
  {
   "cell_type": "code",
   "execution_count": 10,
   "id": "3155df35-b1ef-4046-ba24-c69fc45eba23",
   "metadata": {},
   "outputs": [],
   "source": [
    "marks.append([\"History\", \"Math\"])"
   ]
  },
  {
   "cell_type": "code",
   "execution_count": 11,
   "id": "402b9f0b-56f6-4400-8db6-00f1261e8deb",
   "metadata": {},
   "outputs": [
    {
     "data": {
      "text/plain": [
       "['History', ['History', 'Math']]"
      ]
     },
     "execution_count": 11,
     "metadata": {},
     "output_type": "execute_result"
    }
   ],
   "source": [
    "marks"
   ]
  },
  {
   "cell_type": "code",
   "execution_count": 12,
   "id": "6f7ee398-45be-4c7b-aad6-063739b8c1a8",
   "metadata": {},
   "outputs": [
    {
     "data": {
      "text/plain": [
       "'mango'"
      ]
     },
     "execution_count": 12,
     "metadata": {},
     "output_type": "execute_result"
    }
   ],
   "source": [
    "fruits[1]"
   ]
  },
  {
   "cell_type": "code",
   "execution_count": 15,
   "id": "015ccd29-7da3-4e5e-9ca5-dc47a8c944b7",
   "metadata": {},
   "outputs": [
    {
     "data": {
      "text/plain": [
       "[1, 3, 5, 7, 9]"
      ]
     },
     "execution_count": 15,
     "metadata": {},
     "output_type": "execute_result"
    }
   ],
   "source": [
    "numbers = list(range(1,10,2))\n",
    "numbers"
   ]
  },
  {
   "cell_type": "code",
   "execution_count": 19,
   "id": "24f48dd9-1b8f-4e0f-ae6c-16e73e57ed39",
   "metadata": {},
   "outputs": [
    {
     "data": {
      "text/plain": [
       "[1, 2, 3, 4, 1, 2, 3, 4, 5, 6, 7, 6, 7, 8]"
      ]
     },
     "execution_count": 19,
     "metadata": {},
     "output_type": "execute_result"
    }
   ],
   "source": [
    "numbers = [1, 2, 3, 4, 1, 2, 3, 4, 5, 6, 7, 6, 7, 8]\n",
    "numbers"
   ]
  },
  {
   "cell_type": "code",
   "execution_count": 18,
   "id": "918e1e97-607a-4f5b-b0c9-d7a0e5890bd3",
   "metadata": {},
   "outputs": [
    {
     "data": {
      "text/plain": [
       "{1, 2, 3, 4, 5, 6, 7, 8}"
      ]
     },
     "execution_count": 18,
     "metadata": {},
     "output_type": "execute_result"
    }
   ],
   "source": [
    "dupl = set(numbers)\n",
    "dupl"
   ]
  },
  {
   "cell_type": "markdown",
   "id": "be08d988-46d1-45da-a067-5ca39a13b89f",
   "metadata": {},
   "source": [
    "#### Operations on list"
   ]
  },
  {
   "cell_type": "code",
   "execution_count": 22,
   "id": "d43d59d7-cfa2-4b89-a0c0-66caede25df8",
   "metadata": {},
   "outputs": [
    {
     "name": "stdout",
     "output_type": "stream",
     "text": [
      "14\n"
     ]
    }
   ],
   "source": [
    "# Length of a list\n",
    "len_ = len(numbers)\n",
    "print(len_)"
   ]
  },
  {
   "cell_type": "code",
   "execution_count": 23,
   "id": "1c819a0e-6f19-483a-852d-a1be3287d3e2",
   "metadata": {},
   "outputs": [
    {
     "name": "stdout",
     "output_type": "stream",
     "text": [
      "['giraffe', 'tiger', 'monkey', 'mouse']\n"
     ]
    }
   ],
   "source": [
    "#concatination of two lists\n",
    "x = ['giraffe', 'tiger']\n",
    "y = ['monkey', 'mouse']\n",
    "z = x + y\n",
    "print(z) "
   ]
  },
  {
   "cell_type": "code",
   "execution_count": null,
   "id": "233f5bed-f3cd-43ab-aa18-50e51159637d",
   "metadata": {},
   "outputs": [],
   "source": [
    "x = ['giraffe', 24, 18, 'tiger', 2400, 150]\n",
    "y = x * 3\n",
    "print(y)"
   ]
  },
  {
   "cell_type": "code",
   "execution_count": 25,
   "id": "5d71a306-a251-45f7-848e-c48af947607b",
   "metadata": {},
   "outputs": [
    {
     "name": "stdout",
     "output_type": "stream",
     "text": [
      "['Monday', 'Tuesday', 'Wednesday', 'WednesdayWednesday', 20.357, 'Thursday', 'Friday']\n"
     ]
    }
   ],
   "source": [
    "x = ['Monday', 'Tuesday', 'Wednesday', 1800, 20.357, 'Thursday', 'Friday']\n",
    "x[3] = x[2] * 2\n",
    "print(x)"
   ]
  },
  {
   "cell_type": "code",
   "execution_count": 26,
   "id": "89a84139-a95d-46e6-9c0b-576d5fa2c351",
   "metadata": {},
   "outputs": [
    {
     "name": "stdout",
     "output_type": "stream",
     "text": [
      "['Monday', 'Tuesday', 'Wednesday', 'Thursday', 'Friday', 'Saturday', 'Sunday']\n"
     ]
    }
   ],
   "source": [
    "x = ['Monday', 'Tuesday', 'Wednesday', 'Thursday', 'Friday']\n",
    "x.append('Saturday')\n",
    "x.append('Sunday')\n",
    "print(x)"
   ]
  },
  {
   "cell_type": "code",
   "execution_count": 28,
   "id": "afad9050-bc43-46d3-8773-b02b097b2aad",
   "metadata": {},
   "outputs": [
    {
     "name": "stdout",
     "output_type": "stream",
     "text": [
      "['Monday', 'Tuesday', 'Wednesday', 'Thursday', 'Friday', 'Saturday', 'Sunday']\n"
     ]
    }
   ],
   "source": [
    "y = ['Monday', 'Tuesday', 'Wednesday', 'Thursday', 'Friday']\n",
    "y.extend(['Saturday', 'Sunday'])\n",
    "print(y)"
   ]
  },
  {
   "cell_type": "code",
   "execution_count": null,
   "id": "3378a2a0-5cee-4048-b65e-c596765b2d5c",
   "metadata": {},
   "outputs": [],
   "source": []
  }
 ],
 "metadata": {
  "kernelspec": {
   "display_name": "Python 3 (ipykernel)",
   "language": "python",
   "name": "python3"
  },
  "language_info": {
   "codemirror_mode": {
    "name": "ipython",
    "version": 3
   },
   "file_extension": ".py",
   "mimetype": "text/x-python",
   "name": "python",
   "nbconvert_exporter": "python",
   "pygments_lexer": "ipython3",
   "version": "3.11.7"
  }
 },
 "nbformat": 4,
 "nbformat_minor": 5
}
