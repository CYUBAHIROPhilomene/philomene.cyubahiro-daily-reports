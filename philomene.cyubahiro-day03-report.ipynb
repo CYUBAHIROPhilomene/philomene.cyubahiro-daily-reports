{
 "cells": [
  {
   "cell_type": "markdown",
   "id": "030f03f9-935a-48f4-990a-b5b60b5ab11c",
   "metadata": {},
   "source": [
    "### <center>  Python Proficiency for Scientific Computing and Data Science (PyPro-SCiDaS)  </center>"
   ]
  },
  {
   "cell_type": "markdown",
   "id": "e151e53a-9534-44e4-8c3d-46f6d72a4845",
   "metadata": {},
   "source": [
    "#### Strings and files"
   ]
  },
  {
   "cell_type": "code",
   "execution_count": 249,
   "id": "3767602f-79d0-4df7-958a-9650b21ace71",
   "metadata": {},
   "outputs": [],
   "source": [
    "string_1 = \"Will you be at the meeting tonight?\"\n",
    "\n",
    "string_2 = '\"Yes\", he replies.'"
   ]
  },
  {
   "cell_type": "code",
   "execution_count": 250,
   "id": "5108de70-4399-49d2-b50b-3a83e4234f23",
   "metadata": {},
   "outputs": [
    {
     "name": "stdout",
     "output_type": "stream",
     "text": [
      "Will you be at the meeting tonight?\n"
     ]
    }
   ],
   "source": [
    "print(string_1)"
   ]
  },
  {
   "cell_type": "code",
   "execution_count": 251,
   "id": "f186c964-3551-4859-9fb5-b051ccef3f9a",
   "metadata": {},
   "outputs": [
    {
     "name": "stdout",
     "output_type": "stream",
     "text": [
      "\"Yes\", he replies.\n"
     ]
    }
   ],
   "source": [
    "print(string_2)"
   ]
  },
  {
   "cell_type": "markdown",
   "id": "3bf71a40-32df-4e13-8288-d21ea5ca71fb",
   "metadata": {},
   "source": [
    "#### Indexing"
   ]
  },
  {
   "cell_type": "code",
   "execution_count": 252,
   "id": "17a518c8-31bc-4434-9659-2ad08b76015d",
   "metadata": {},
   "outputs": [
    {
     "data": {
      "text/plain": [
       "'W'"
      ]
     },
     "execution_count": 252,
     "metadata": {},
     "output_type": "execute_result"
    }
   ],
   "source": [
    "string_1[0]"
   ]
  },
  {
   "cell_type": "code",
   "execution_count": 253,
   "id": "608d62cc-de21-4de3-a19b-137dfb5ec5ef",
   "metadata": {},
   "outputs": [
    {
     "data": {
      "text/plain": [
       "'l'"
      ]
     },
     "execution_count": 253,
     "metadata": {},
     "output_type": "execute_result"
    }
   ],
   "source": [
    "string_1[2]"
   ]
  },
  {
   "cell_type": "code",
   "execution_count": 254,
   "id": "7b862201-90a0-474c-ba99-8d4db6bf24ce",
   "metadata": {},
   "outputs": [
    {
     "name": "stdout",
     "output_type": "stream",
     "text": [
      "Will you be at the meeting tonight?\n",
      "The second character of my string is i\n"
     ]
    }
   ],
   "source": [
    "print(string_1)\n",
    "print(\"The second character of my string is\", string_1[1])"
   ]
  },
  {
   "cell_type": "code",
   "execution_count": 255,
   "id": "c20a1d34-6eac-4559-b72a-9489e7bb1745",
   "metadata": {},
   "outputs": [
    {
     "name": "stdout",
     "output_type": "stream",
     "text": [
      "Will you be at the meeting tonight?\n",
      "The second character of my string is:  ?\n"
     ]
    }
   ],
   "source": [
    "print(string_1)\n",
    "print(\"The second character of my string is: \", string_1[-1])"
   ]
  },
  {
   "cell_type": "markdown",
   "id": "653f5d01-df8f-452d-b981-dd9bdf0588ba",
   "metadata": {},
   "source": [
    "#### Slicing\n",
    "```python\n",
    "string[start:stop:step]\n",
    "```"
   ]
  },
  {
   "cell_type": "code",
   "execution_count": 256,
   "id": "65c02931-a3fb-4e5b-a669-02bf8548e53e",
   "metadata": {},
   "outputs": [
    {
     "name": "stdout",
     "output_type": "stream",
     "text": [
      "Will you be at the meeting tonight?\n"
     ]
    },
    {
     "data": {
      "text/plain": [
       "'l o'"
      ]
     },
     "execution_count": 256,
     "metadata": {},
     "output_type": "execute_result"
    }
   ],
   "source": [
    "print(string_1)\n",
    "string_1[2:8:2]"
   ]
  },
  {
   "cell_type": "code",
   "execution_count": 257,
   "id": "f3f61852-d1ca-413d-986b-4215adce30a2",
   "metadata": {},
   "outputs": [
    {
     "data": {
      "text/plain": [
       "'hdbdcdnns'"
      ]
     },
     "execution_count": 257,
     "metadata": {},
     "output_type": "execute_result"
    }
   ],
   "source": [
    "string_3 = 'hadcbjdnckdcnxnssj'\n",
    "string_3[::2]"
   ]
  },
  {
   "cell_type": "code",
   "execution_count": 258,
   "id": "c8c4c6d3-b180-40f7-8192-46338960762a",
   "metadata": {},
   "outputs": [
    {
     "data": {
      "text/plain": [
       "'cbjdnckdcnxnss'"
      ]
     },
     "execution_count": 258,
     "metadata": {},
     "output_type": "execute_result"
    }
   ],
   "source": [
    "string_3 = 'hadcbjdnckdcnxnssj'\n",
    "string_3[3:-1]"
   ]
  },
  {
   "cell_type": "code",
   "execution_count": 259,
   "id": "41e87007-c0ce-4157-872a-5e80c8b66c0c",
   "metadata": {},
   "outputs": [
    {
     "data": {
      "text/plain": [
       "18"
      ]
     },
     "execution_count": 259,
     "metadata": {},
     "output_type": "execute_result"
    }
   ],
   "source": [
    "len(string_2)"
   ]
  },
  {
   "cell_type": "markdown",
   "id": "49ea8712-adac-4769-bdde-d6510bf10552",
   "metadata": {},
   "source": [
    "#### Concatenation"
   ]
  },
  {
   "cell_type": "code",
   "execution_count": 260,
   "id": "ee8b5c6d-7afe-428e-80de-8840fe0eaac7",
   "metadata": {},
   "outputs": [
    {
     "name": "stdout",
     "output_type": "stream",
     "text": [
      "Hello, World\n",
      "WorldHello, \n"
     ]
    }
   ],
   "source": [
    "my_var_1 = \"Hello, \"\n",
    "my_var_2 = 'World'\n",
    "\n",
    "concat = my_var_1 + my_var_2\n",
    "concat1 = my_var_2 + my_var_1\n",
    "print(concat)\n",
    "print(concat1)"
   ]
  },
  {
   "cell_type": "code",
   "execution_count": 261,
   "id": "cfd4386e-e9c1-46bb-b78f-502a54af5dc6",
   "metadata": {},
   "outputs": [
    {
     "name": "stdout",
     "output_type": "stream",
     "text": [
      "WorldWorld\n"
     ]
    }
   ],
   "source": [
    "# print(my_var_2)\n",
    "print(2 * my_var_2)"
   ]
  },
  {
   "cell_type": "code",
   "execution_count": 262,
   "id": "3a682c37-6444-498d-ac83-ef83d64a292b",
   "metadata": {},
   "outputs": [],
   "source": [
    "str_1 = \" Hello, World!  \""
   ]
  },
  {
   "cell_type": "code",
   "execution_count": 263,
   "id": "4f66e3ef-8b30-4d61-bc93-ad8a8faf0a14",
   "metadata": {},
   "outputs": [
    {
     "data": {
      "text/plain": [
       "['__add__',\n",
       " '__class__',\n",
       " '__contains__',\n",
       " '__delattr__',\n",
       " '__dir__',\n",
       " '__doc__',\n",
       " '__eq__',\n",
       " '__format__',\n",
       " '__ge__',\n",
       " '__getattribute__',\n",
       " '__getitem__',\n",
       " '__getnewargs__',\n",
       " '__getstate__',\n",
       " '__gt__',\n",
       " '__hash__',\n",
       " '__init__',\n",
       " '__init_subclass__',\n",
       " '__iter__',\n",
       " '__le__',\n",
       " '__len__',\n",
       " '__lt__',\n",
       " '__mod__',\n",
       " '__mul__',\n",
       " '__ne__',\n",
       " '__new__',\n",
       " '__reduce__',\n",
       " '__reduce_ex__',\n",
       " '__repr__',\n",
       " '__rmod__',\n",
       " '__rmul__',\n",
       " '__setattr__',\n",
       " '__sizeof__',\n",
       " '__str__',\n",
       " '__subclasshook__',\n",
       " 'capitalize',\n",
       " 'casefold',\n",
       " 'center',\n",
       " 'count',\n",
       " 'encode',\n",
       " 'endswith',\n",
       " 'expandtabs',\n",
       " 'find',\n",
       " 'format',\n",
       " 'format_map',\n",
       " 'index',\n",
       " 'isalnum',\n",
       " 'isalpha',\n",
       " 'isascii',\n",
       " 'isdecimal',\n",
       " 'isdigit',\n",
       " 'isidentifier',\n",
       " 'islower',\n",
       " 'isnumeric',\n",
       " 'isprintable',\n",
       " 'isspace',\n",
       " 'istitle',\n",
       " 'isupper',\n",
       " 'join',\n",
       " 'ljust',\n",
       " 'lower',\n",
       " 'lstrip',\n",
       " 'maketrans',\n",
       " 'partition',\n",
       " 'removeprefix',\n",
       " 'removesuffix',\n",
       " 'replace',\n",
       " 'rfind',\n",
       " 'rindex',\n",
       " 'rjust',\n",
       " 'rpartition',\n",
       " 'rsplit',\n",
       " 'rstrip',\n",
       " 'split',\n",
       " 'splitlines',\n",
       " 'startswith',\n",
       " 'strip',\n",
       " 'swapcase',\n",
       " 'title',\n",
       " 'translate',\n",
       " 'upper',\n",
       " 'zfill']"
      ]
     },
     "execution_count": 263,
     "metadata": {},
     "output_type": "execute_result"
    }
   ],
   "source": [
    "dir(str_1)"
   ]
  },
  {
   "cell_type": "code",
   "execution_count": 264,
   "id": "592ebcee-4571-4cbf-866a-ce69c4a61e9f",
   "metadata": {},
   "outputs": [
    {
     "data": {
      "text/plain": [
       "\u001b[1;31mSignature:\u001b[0m \u001b[0mstr_1\u001b[0m\u001b[1;33m.\u001b[0m\u001b[0misalpha\u001b[0m\u001b[1;33m(\u001b[0m\u001b[1;33m)\u001b[0m\u001b[1;33m\u001b[0m\u001b[1;33m\u001b[0m\u001b[0m\n",
       "\u001b[1;31mDocstring:\u001b[0m\n",
       "Return True if the string is an alphabetic string, False otherwise.\n",
       "\n",
       "A string is alphabetic if all characters in the string are alphabetic and there\n",
       "is at least one character in the string.\n",
       "\u001b[1;31mType:\u001b[0m      builtin_function_or_method"
      ]
     },
     "metadata": {},
     "output_type": "display_data"
    }
   ],
   "source": [
    "?str_1.isalpha"
   ]
  },
  {
   "cell_type": "code",
   "execution_count": 265,
   "id": "7eed54d5-667b-4dcf-928f-19e0182e92b2",
   "metadata": {},
   "outputs": [
    {
     "data": {
      "text/plain": [
       "False"
      ]
     },
     "execution_count": 265,
     "metadata": {},
     "output_type": "execute_result"
    }
   ],
   "source": [
    "str_1.isalpha()"
   ]
  },
  {
   "cell_type": "code",
   "execution_count": 266,
   "id": "a1a56f6a-b164-4935-a355-d6fa1d255f0f",
   "metadata": {},
   "outputs": [
    {
     "data": {
      "text/plain": [
       "\u001b[1;31mSignature:\u001b[0m \u001b[0mstr_1\u001b[0m\u001b[1;33m.\u001b[0m\u001b[0misupper\u001b[0m\u001b[1;33m(\u001b[0m\u001b[1;33m)\u001b[0m\u001b[1;33m\u001b[0m\u001b[1;33m\u001b[0m\u001b[0m\n",
       "\u001b[1;31mDocstring:\u001b[0m\n",
       "Return True if the string is an uppercase string, False otherwise.\n",
       "\n",
       "A string is uppercase if all cased characters in the string are uppercase and\n",
       "there is at least one cased character in the string.\n",
       "\u001b[1;31mType:\u001b[0m      builtin_function_or_method"
      ]
     },
     "metadata": {},
     "output_type": "display_data"
    }
   ],
   "source": [
    "?str_1.isupper"
   ]
  },
  {
   "cell_type": "code",
   "execution_count": 267,
   "id": "3b204789-85f8-45e4-a58f-15fb78018a49",
   "metadata": {},
   "outputs": [
    {
     "data": {
      "text/plain": [
       "False"
      ]
     },
     "execution_count": 267,
     "metadata": {},
     "output_type": "execute_result"
    }
   ],
   "source": [
    "str_1.isupper()"
   ]
  },
  {
   "cell_type": "code",
   "execution_count": 268,
   "id": "251e94ee-6173-4aa5-80a9-6922040513f6",
   "metadata": {},
   "outputs": [
    {
     "data": {
      "text/plain": [
       "\u001b[1;31mSignature:\u001b[0m \u001b[0mstr_1\u001b[0m\u001b[1;33m.\u001b[0m\u001b[0mtitle\u001b[0m\u001b[1;33m(\u001b[0m\u001b[1;33m)\u001b[0m\u001b[1;33m\u001b[0m\u001b[1;33m\u001b[0m\u001b[0m\n",
       "\u001b[1;31mDocstring:\u001b[0m\n",
       "Return a version of the string where each word is titlecased.\n",
       "\n",
       "More specifically, words start with uppercased characters and all remaining\n",
       "cased characters have lower case.\n",
       "\u001b[1;31mType:\u001b[0m      builtin_function_or_method"
      ]
     },
     "metadata": {},
     "output_type": "display_data"
    }
   ],
   "source": [
    "?str_1.title"
   ]
  },
  {
   "cell_type": "code",
   "execution_count": 269,
   "id": "cf6ffbbf-a2d6-440a-8c09-5fdfad72c8dd",
   "metadata": {},
   "outputs": [
    {
     "data": {
      "text/plain": [
       "' Hello, World!  '"
      ]
     },
     "execution_count": 269,
     "metadata": {},
     "output_type": "execute_result"
    }
   ],
   "source": [
    "str_1.title()"
   ]
  },
  {
   "cell_type": "code",
   "execution_count": 270,
   "id": "ffea5d82-ef1d-4e96-9df1-e31be80eefc0",
   "metadata": {},
   "outputs": [
    {
     "data": {
      "text/plain": [
       "\u001b[1;31mSignature:\u001b[0m \u001b[0mstr_1\u001b[0m\u001b[1;33m.\u001b[0m\u001b[0mswapcase\u001b[0m\u001b[1;33m(\u001b[0m\u001b[1;33m)\u001b[0m\u001b[1;33m\u001b[0m\u001b[1;33m\u001b[0m\u001b[0m\n",
       "\u001b[1;31mDocstring:\u001b[0m Convert uppercase characters to lowercase and lowercase characters to uppercase.\n",
       "\u001b[1;31mType:\u001b[0m      builtin_function_or_method"
      ]
     },
     "metadata": {},
     "output_type": "display_data"
    }
   ],
   "source": [
    "?str_1.swapcase"
   ]
  },
  {
   "cell_type": "code",
   "execution_count": 271,
   "id": "5cdf8f20-0fd5-4c6f-a3f7-5a6b57fb10cf",
   "metadata": {},
   "outputs": [
    {
     "data": {
      "text/plain": [
       "' hELLO, wORLD!  '"
      ]
     },
     "execution_count": 271,
     "metadata": {},
     "output_type": "execute_result"
    }
   ],
   "source": [
    "str_1.swapcase()"
   ]
  },
  {
   "cell_type": "code",
   "execution_count": 272,
   "id": "1504e74d-9f92-44e1-9ba3-560275a9470c",
   "metadata": {},
   "outputs": [
    {
     "data": {
      "text/plain": [
       "\u001b[1;31mSignature:\u001b[0m \u001b[0mstr_1\u001b[0m\u001b[1;33m.\u001b[0m\u001b[0mstrip\u001b[0m\u001b[1;33m(\u001b[0m\u001b[0mchars\u001b[0m\u001b[1;33m=\u001b[0m\u001b[1;32mNone\u001b[0m\u001b[1;33m,\u001b[0m \u001b[1;33m/\u001b[0m\u001b[1;33m)\u001b[0m\u001b[1;33m\u001b[0m\u001b[1;33m\u001b[0m\u001b[0m\n",
       "\u001b[1;31mDocstring:\u001b[0m\n",
       "Return a copy of the string with leading and trailing whitespace removed.\n",
       "\n",
       "If chars is given and not None, remove characters in chars instead.\n",
       "\u001b[1;31mType:\u001b[0m      builtin_function_or_method"
      ]
     },
     "metadata": {},
     "output_type": "display_data"
    }
   ],
   "source": [
    "?str_1.strip"
   ]
  },
  {
   "cell_type": "code",
   "execution_count": 273,
   "id": "0a83568f-e528-409b-bf52-97f59d29eeff",
   "metadata": {},
   "outputs": [
    {
     "data": {
      "text/plain": [
       "'Hello, World!'"
      ]
     },
     "execution_count": 273,
     "metadata": {},
     "output_type": "execute_result"
    }
   ],
   "source": [
    "str_1.strip()"
   ]
  },
  {
   "cell_type": "code",
   "execution_count": 274,
   "id": "d1b6ff30-c310-434e-9e12-462384d00f0a",
   "metadata": {},
   "outputs": [
    {
     "data": {
      "text/plain": [
       "\u001b[1;31mDocstring:\u001b[0m\n",
       "S.startswith(prefix[, start[, end]]) -> bool\n",
       "\n",
       "Return True if S starts with the specified prefix, False otherwise.\n",
       "With optional start, test S beginning at that position.\n",
       "With optional end, stop comparing S at that position.\n",
       "prefix can also be a tuple of strings to try.\n",
       "\u001b[1;31mType:\u001b[0m      builtin_function_or_method"
      ]
     },
     "metadata": {},
     "output_type": "display_data"
    }
   ],
   "source": [
    "?str_1.startswith"
   ]
  },
  {
   "cell_type": "code",
   "execution_count": 275,
   "id": "b01ccafd-9eb0-4885-bd9e-f042065a9d7c",
   "metadata": {},
   "outputs": [
    {
     "name": "stdout",
     "output_type": "stream",
     "text": [
      " Hello, World!  \n"
     ]
    },
    {
     "data": {
      "text/plain": [
       "False"
      ]
     },
     "execution_count": 275,
     "metadata": {},
     "output_type": "execute_result"
    }
   ],
   "source": [
    "print(str_1)\n",
    "str_1.startswith('H')"
   ]
  },
  {
   "cell_type": "code",
   "execution_count": 276,
   "id": "28cbc594-3d69-4673-bc27-9ef4e3521d7b",
   "metadata": {},
   "outputs": [],
   "source": [
    "str_2 = '''I'm learning python \n",
    "it is hard\n",
    "but i will try'''"
   ]
  },
  {
   "cell_type": "code",
   "execution_count": 277,
   "id": "b7ee3397-c1e4-4934-880a-dacab5899150",
   "metadata": {},
   "outputs": [
    {
     "data": {
      "text/plain": [
       "\u001b[1;31mSignature:\u001b[0m \u001b[0mstr_2\u001b[0m\u001b[1;33m.\u001b[0m\u001b[0msplitlines\u001b[0m\u001b[1;33m(\u001b[0m\u001b[0mkeepends\u001b[0m\u001b[1;33m=\u001b[0m\u001b[1;32mFalse\u001b[0m\u001b[1;33m)\u001b[0m\u001b[1;33m\u001b[0m\u001b[1;33m\u001b[0m\u001b[0m\n",
       "\u001b[1;31mDocstring:\u001b[0m\n",
       "Return a list of the lines in the string, breaking at line boundaries.\n",
       "\n",
       "Line breaks are not included in the resulting list unless keepends is given and\n",
       "true.\n",
       "\u001b[1;31mType:\u001b[0m      builtin_function_or_method"
      ]
     },
     "metadata": {},
     "output_type": "display_data"
    }
   ],
   "source": [
    "?str_2.splitlines"
   ]
  },
  {
   "cell_type": "code",
   "execution_count": 278,
   "id": "afdd3d32-7668-46d7-a526-bf9a6f1051e5",
   "metadata": {},
   "outputs": [
    {
     "data": {
      "text/plain": [
       "[\"I'm learning python \", 'it is hard', 'but i will try']"
      ]
     },
     "execution_count": 278,
     "metadata": {},
     "output_type": "execute_result"
    }
   ],
   "source": [
    "str_2.splitlines()"
   ]
  },
  {
   "cell_type": "code",
   "execution_count": 279,
   "id": "3030f41c-d5b9-4975-a357-9f78f82c0196",
   "metadata": {},
   "outputs": [
    {
     "data": {
      "text/plain": [
       "\u001b[1;31mSignature:\u001b[0m \u001b[0mstr_1\u001b[0m\u001b[1;33m.\u001b[0m\u001b[0msplit\u001b[0m\u001b[1;33m(\u001b[0m\u001b[0msep\u001b[0m\u001b[1;33m=\u001b[0m\u001b[1;32mNone\u001b[0m\u001b[1;33m,\u001b[0m \u001b[0mmaxsplit\u001b[0m\u001b[1;33m=\u001b[0m\u001b[1;33m-\u001b[0m\u001b[1;36m1\u001b[0m\u001b[1;33m)\u001b[0m\u001b[1;33m\u001b[0m\u001b[1;33m\u001b[0m\u001b[0m\n",
       "\u001b[1;31mDocstring:\u001b[0m\n",
       "Return a list of the substrings in the string, using sep as the separator string.\n",
       "\n",
       "  sep\n",
       "    The separator used to split the string.\n",
       "\n",
       "    When set to None (the default value), will split on any whitespace\n",
       "    character (including \\n \\r \\t \\f and spaces) and will discard\n",
       "    empty strings from the result.\n",
       "  maxsplit\n",
       "    Maximum number of splits (starting from the left).\n",
       "    -1 (the default value) means no limit.\n",
       "\n",
       "Note, str.split() is mainly useful for data that has been intentionally\n",
       "delimited.  With natural text that includes punctuation, consider using\n",
       "the regular expression module.\n",
       "\u001b[1;31mType:\u001b[0m      builtin_function_or_method"
      ]
     },
     "metadata": {},
     "output_type": "display_data"
    }
   ],
   "source": [
    "?str_1.split"
   ]
  },
  {
   "cell_type": "code",
   "execution_count": 280,
   "id": "c9a589dd-f1dc-4fc6-8dbb-1d3101082d92",
   "metadata": {},
   "outputs": [
    {
     "data": {
      "text/plain": [
       "[' Hello', ' World!  ']"
      ]
     },
     "execution_count": 280,
     "metadata": {},
     "output_type": "execute_result"
    }
   ],
   "source": [
    "str_1.split(\",\")"
   ]
  },
  {
   "cell_type": "code",
   "execution_count": 281,
   "id": "f9558005-1495-4b4c-a160-b8d10c442a30",
   "metadata": {},
   "outputs": [
    {
     "data": {
      "text/plain": [
       "\u001b[1;31mSignature:\u001b[0m \u001b[0mstr_1\u001b[0m\u001b[1;33m.\u001b[0m\u001b[0mrstrip\u001b[0m\u001b[1;33m(\u001b[0m\u001b[0mchars\u001b[0m\u001b[1;33m=\u001b[0m\u001b[1;32mNone\u001b[0m\u001b[1;33m,\u001b[0m \u001b[1;33m/\u001b[0m\u001b[1;33m)\u001b[0m\u001b[1;33m\u001b[0m\u001b[1;33m\u001b[0m\u001b[0m\n",
       "\u001b[1;31mDocstring:\u001b[0m\n",
       "Return a copy of the string with trailing whitespace removed.\n",
       "\n",
       "If chars is given and not None, remove characters in chars instead.\n",
       "\u001b[1;31mType:\u001b[0m      builtin_function_or_method"
      ]
     },
     "metadata": {},
     "output_type": "display_data"
    }
   ],
   "source": [
    "?str_1.rstrip"
   ]
  },
  {
   "cell_type": "code",
   "execution_count": 282,
   "id": "be938671-b4ea-4f8d-9170-e2d879204deb",
   "metadata": {},
   "outputs": [
    {
     "data": {
      "text/plain": [
       "' Hello, World!'"
      ]
     },
     "execution_count": 282,
     "metadata": {},
     "output_type": "execute_result"
    }
   ],
   "source": [
    "str_1.rstrip()"
   ]
  },
  {
   "cell_type": "code",
   "execution_count": 283,
   "id": "f244aa34-2650-474b-bd5c-1fb123ab3106",
   "metadata": {},
   "outputs": [
    {
     "data": {
      "text/plain": [
       "\u001b[1;31mSignature:\u001b[0m \u001b[0mstr_1\u001b[0m\u001b[1;33m.\u001b[0m\u001b[0mlstrip\u001b[0m\u001b[1;33m(\u001b[0m\u001b[0mchars\u001b[0m\u001b[1;33m=\u001b[0m\u001b[1;32mNone\u001b[0m\u001b[1;33m,\u001b[0m \u001b[1;33m/\u001b[0m\u001b[1;33m)\u001b[0m\u001b[1;33m\u001b[0m\u001b[1;33m\u001b[0m\u001b[0m\n",
       "\u001b[1;31mDocstring:\u001b[0m\n",
       "Return a copy of the string with leading whitespace removed.\n",
       "\n",
       "If chars is given and not None, remove characters in chars instead.\n",
       "\u001b[1;31mType:\u001b[0m      builtin_function_or_method"
      ]
     },
     "metadata": {},
     "output_type": "display_data"
    }
   ],
   "source": [
    "?str_1.lstrip"
   ]
  },
  {
   "cell_type": "code",
   "execution_count": 284,
   "id": "491ab1fc-14d5-4690-932e-3cd41c378599",
   "metadata": {},
   "outputs": [
    {
     "data": {
      "text/plain": [
       "'Hello, World!  '"
      ]
     },
     "execution_count": 284,
     "metadata": {},
     "output_type": "execute_result"
    }
   ],
   "source": [
    "str_1.lstrip()"
   ]
  },
  {
   "cell_type": "code",
   "execution_count": 285,
   "id": "6e98e6d2-94f3-4d57-8e1a-73a0381de1de",
   "metadata": {},
   "outputs": [
    {
     "data": {
      "text/plain": [
       "\u001b[1;31mSignature:\u001b[0m \u001b[0mstr_2\u001b[0m\u001b[1;33m.\u001b[0m\u001b[0mrsplit\u001b[0m\u001b[1;33m(\u001b[0m\u001b[0msep\u001b[0m\u001b[1;33m=\u001b[0m\u001b[1;32mNone\u001b[0m\u001b[1;33m,\u001b[0m \u001b[0mmaxsplit\u001b[0m\u001b[1;33m=\u001b[0m\u001b[1;33m-\u001b[0m\u001b[1;36m1\u001b[0m\u001b[1;33m)\u001b[0m\u001b[1;33m\u001b[0m\u001b[1;33m\u001b[0m\u001b[0m\n",
       "\u001b[1;31mDocstring:\u001b[0m\n",
       "Return a list of the substrings in the string, using sep as the separator string.\n",
       "\n",
       "  sep\n",
       "    The separator used to split the string.\n",
       "\n",
       "    When set to None (the default value), will split on any whitespace\n",
       "    character (including \\n \\r \\t \\f and spaces) and will discard\n",
       "    empty strings from the result.\n",
       "  maxsplit\n",
       "    Maximum number of splits (starting from the left).\n",
       "    -1 (the default value) means no limit.\n",
       "\n",
       "Splitting starts at the end of the string and works to the front.\n",
       "\u001b[1;31mType:\u001b[0m      builtin_function_or_method"
      ]
     },
     "metadata": {},
     "output_type": "display_data"
    }
   ],
   "source": [
    "?str_2.rsplit"
   ]
  },
  {
   "cell_type": "code",
   "execution_count": 286,
   "id": "b96e5d1f-7dd3-4849-b419-b6b2c8e521b0",
   "metadata": {},
   "outputs": [
    {
     "data": {
      "text/plain": [
       "[\"I'm\", 'learning', 'python', 'it', 'is', 'hard', 'but', 'i', 'will', 'try']"
      ]
     },
     "execution_count": 286,
     "metadata": {},
     "output_type": "execute_result"
    }
   ],
   "source": [
    "str_2.rsplit()"
   ]
  },
  {
   "cell_type": "code",
   "execution_count": 287,
   "id": "3a72a657-c7fa-4f9b-b5a7-de509744512f",
   "metadata": {},
   "outputs": [
    {
     "data": {
      "text/plain": [
       "['Hello,', 'World!']"
      ]
     },
     "execution_count": 287,
     "metadata": {},
     "output_type": "execute_result"
    }
   ],
   "source": [
    "str_1.rsplit()"
   ]
  },
  {
   "cell_type": "code",
   "execution_count": 288,
   "id": "6fef6d57-ba73-4314-91ff-b195838a5b8c",
   "metadata": {},
   "outputs": [
    {
     "data": {
      "text/plain": [
       "[' Hello', ' World!  ']"
      ]
     },
     "execution_count": 288,
     "metadata": {},
     "output_type": "execute_result"
    }
   ],
   "source": [
    "str_1.rsplit(',')"
   ]
  },
  {
   "cell_type": "code",
   "execution_count": 289,
   "id": "11068bb7-40a3-40eb-9990-d026b3c28b5e",
   "metadata": {},
   "outputs": [
    {
     "data": {
      "text/plain": [
       "\u001b[1;31mSignature:\u001b[0m \u001b[0mstr_1\u001b[0m\u001b[1;33m.\u001b[0m\u001b[0mrpartition\u001b[0m\u001b[1;33m(\u001b[0m\u001b[0msep\u001b[0m\u001b[1;33m,\u001b[0m \u001b[1;33m/\u001b[0m\u001b[1;33m)\u001b[0m\u001b[1;33m\u001b[0m\u001b[1;33m\u001b[0m\u001b[0m\n",
       "\u001b[1;31mDocstring:\u001b[0m\n",
       "Partition the string into three parts using the given separator.\n",
       "\n",
       "This will search for the separator in the string, starting at the end. If\n",
       "the separator is found, returns a 3-tuple containing the part before the\n",
       "separator, the separator itself, and the part after it.\n",
       "\n",
       "If the separator is not found, returns a 3-tuple containing two empty strings\n",
       "and the original string.\n",
       "\u001b[1;31mType:\u001b[0m      builtin_function_or_method"
      ]
     },
     "metadata": {},
     "output_type": "display_data"
    }
   ],
   "source": [
    "?str_1.rpartition"
   ]
  },
  {
   "cell_type": "code",
   "execution_count": 290,
   "id": "8fdd96a0-0f89-4fdb-a3a2-2e5dec4eb1db",
   "metadata": {},
   "outputs": [
    {
     "data": {
      "text/plain": [
       "(' Hello, World', '!', '  ')"
      ]
     },
     "execution_count": 290,
     "metadata": {},
     "output_type": "execute_result"
    }
   ],
   "source": [
    "str_1.rpartition('!')"
   ]
  },
  {
   "cell_type": "code",
   "execution_count": 291,
   "id": "08d445a1-2cb2-4664-9768-d10369484617",
   "metadata": {},
   "outputs": [
    {
     "name": "stdout",
     "output_type": "stream",
     "text": [
      " Volume in drive C is Windows-SSD\n",
      " Volume Serial Number is 20C9-2428\n",
      "\n",
      " Directory of C:\\Users\\User\\OneDrive\\Documents\\AIMS\\Skill phase\\python_course\\notebooks_lecture_notes\n",
      "\n",
      "09/25/2025  08:24 PM    <DIR>          .\n",
      "09/23/2025  10:29 AM    <DIR>          ..\n",
      "09/25/2025  08:22 PM    <DIR>          .ipynb_checkpoints\n",
      "09/25/2025  08:20 PM    <DIR>          data\n",
      "09/24/2025  10:11 PM                12 example.txt\n",
      "09/23/2025  05:12 PM    <DIR>          Images\n",
      "09/25/2025  08:28 PM                35 outfile.txt\n",
      "09/23/2025  05:14 PM            54,859 philomene.cyubahiro-day00-report.ipynb\n",
      "09/23/2025  05:02 PM            33,368 philomene.cyubahiro-day01-report.ipynb\n",
      "09/25/2025  08:23 PM            12,132 philomene.cyubahiro-day02-report.ipynb\n",
      "09/25/2025  08:24 PM            31,878 philomene.cyubahiro-day03-report.ipynb\n",
      "09/25/2025  04:09 PM             9,552 philomene_cyubahiro_PP1.ipynb\n",
      "09/23/2025  11:33 AM            54,855 PyPro-SCiDaS-day_00_introduction_to_jupyter_notebooks.ipynb\n",
      "09/24/2025  08:34 PM            64,532 PyPro-SCiDaS-day_01a_introduction_to_python.ipynb\n",
      "09/24/2025  08:48 PM            74,803 PyPro-SCiDaS-day_01b_variables-and-assignment.ipynb\n",
      "09/25/2025  12:38 PM                35 testfile.txt\n",
      "09/24/2025  10:30 PM            42,810 Tutorial_1.ipynb\n",
      "              12 File(s)        378,871 bytes\n",
      "               5 Dir(s)  140,237,783,040 bytes free\n"
     ]
    }
   ],
   "source": [
    "!dir"
   ]
  },
  {
   "cell_type": "code",
   "execution_count": 292,
   "id": "5375aa6e-5734-4dd4-bc65-e0cb8f90de44",
   "metadata": {},
   "outputs": [],
   "source": [
    "f = open('testfile.txt', 'r')\n"
   ]
  },
  {
   "cell_type": "code",
   "execution_count": 293,
   "id": "a771cf37-f163-4a2f-b51e-a4d76b17d5f3",
   "metadata": {},
   "outputs": [
    {
     "data": {
      "text/plain": [
       "_io.TextIOWrapper"
      ]
     },
     "execution_count": 293,
     "metadata": {},
     "output_type": "execute_result"
    }
   ],
   "source": [
    "type(f)"
   ]
  },
  {
   "cell_type": "code",
   "execution_count": 294,
   "id": "cd00bb75-138d-4a8f-845d-55b95e206bce",
   "metadata": {},
   "outputs": [
    {
     "data": {
      "text/plain": [
       "['This is Thursday\\n', 'This is Thursday2']"
      ]
     },
     "execution_count": 294,
     "metadata": {},
     "output_type": "execute_result"
    }
   ],
   "source": [
    "f.readlines()"
   ]
  },
  {
   "cell_type": "code",
   "execution_count": 295,
   "id": "1852c00d-2bdc-415f-bc34-74e078b2319d",
   "metadata": {},
   "outputs": [
    {
     "data": {
      "text/plain": [
       "''"
      ]
     },
     "execution_count": 295,
     "metadata": {},
     "output_type": "execute_result"
    }
   ],
   "source": [
    "f.read()"
   ]
  },
  {
   "cell_type": "code",
   "execution_count": 296,
   "id": "2eb4d74e-aad3-44e1-b6fb-d2a4f93b6cd1",
   "metadata": {},
   "outputs": [],
   "source": [
    "f.close()"
   ]
  },
  {
   "cell_type": "code",
   "execution_count": 297,
   "id": "cf6dc3d6-4b3d-4535-b631-99cb8fa33930",
   "metadata": {},
   "outputs": [],
   "source": [
    "# f.read()"
   ]
  },
  {
   "cell_type": "code",
   "execution_count": 298,
   "id": "dc0a1eb6-5d2f-46f8-b15d-65faa0a59fec",
   "metadata": {},
   "outputs": [],
   "source": [
    "to_write_to_file = open('outfile.txt', 'w')\n",
    "to_write_to_file.write(\"This is Thursday\\n\")\n",
    "to_write_to_file.write(\"This is Thursday2\")\n",
    "to_write_to_file.close()"
   ]
  },
  {
   "cell_type": "code",
   "execution_count": 299,
   "id": "2b1b6775-eba7-4fb3-987c-c8f321e15351",
   "metadata": {},
   "outputs": [
    {
     "data": {
      "text/plain": [
       "['This is Thursday\\n', 'This is Thursday2']"
      ]
     },
     "execution_count": 299,
     "metadata": {},
     "output_type": "execute_result"
    }
   ],
   "source": [
    " to_write_to_file = open('outfile.txt', 'r')\n",
    "to_write_to_file.readlines()"
   ]
  },
  {
   "cell_type": "code",
   "execution_count": 300,
   "id": "e6daea04-f68b-4a01-b184-0019911b3427",
   "metadata": {},
   "outputs": [
    {
     "name": "stdout",
     "output_type": "stream",
     "text": [
      "This is the day the Lord has made.\n"
     ]
    }
   ],
   "source": [
    "with open(\"data/source.txt\", \"r\") as src, open(\"data/destination.txt\", \"w\") as dst:\n",
    "    dst.write(src.read())\n",
    "with open(\"data/destination.txt\", \"r\") as f:\n",
    "        print(f.read())"
   ]
  },
  {
   "cell_type": "code",
   "execution_count": null,
   "id": "60f3b0f4-0542-4553-917f-7d497de84de1",
   "metadata": {},
   "outputs": [],
   "source": []
  }
 ],
 "metadata": {
  "kernelspec": {
   "display_name": "Python 3 (ipykernel)",
   "language": "python",
   "name": "python3"
  },
  "language_info": {
   "codemirror_mode": {
    "name": "ipython",
    "version": 3
   },
   "file_extension": ".py",
   "mimetype": "text/x-python",
   "name": "python",
   "nbconvert_exporter": "python",
   "pygments_lexer": "ipython3",
   "version": "3.11.7"
  }
 },
 "nbformat": 4,
 "nbformat_minor": 5
}
